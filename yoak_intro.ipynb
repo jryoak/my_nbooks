{
 "cells": [
  {
   "cell_type": "markdown",
   "id": "ec387423-6eec-4296-8ea8-28fc0f744f52",
   "metadata": {
    "tags": []
   },
   "source": [
    "# My First JupyterLab Notebook"
   ]
  },
  {
   "cell_type": "markdown",
   "id": "d979eb0d-d591-481c-81e8-cdbb72fa240c",
   "metadata": {
    "tags": []
   },
   "source": [
    "## John Yoak"
   ]
  },
  {
   "cell_type": "code",
   "execution_count": 1,
   "id": "6b69a834-a498-4d65-b0ba-84229c9d8959",
   "metadata": {},
   "outputs": [
    {
     "name": "stdout",
     "output_type": "stream",
     "text": [
      "[95, 36, 51, 33, 78, 52, 93, 42, 37, 86, 72, 73, 83, 95, 95, 65, 39, 43, 37, 62, 76, 65, 87, 53, 85, 74, 31, 44, 62, 85, 75, 89, 32, 69, 95, 90, 38, 31, 81, 81]\n"
     ]
    }
   ],
   "source": [
    "import random\n",
    "nums = [random.randrange(30,101,1) for i in range(40)]\n",
    "print(nums)"
   ]
  },
  {
   "cell_type": "code",
   "execution_count": 2,
   "id": "7c276bea-e3bf-4481-b8cf-166d7ddd560b",
   "metadata": {
    "tags": []
   },
   "outputs": [
    {
     "name": "stdout",
     "output_type": "stream",
     "text": [
      "31 31 32 33 36 37 37 38 39 42 43 44 51 52 53 62 62 65 65 69 72 73 74 75 76 78 81 81 83 85 85 86 87 89 90 93 95 95 95 95 "
     ]
    }
   ],
   "source": [
    "nums.sort()\n",
    "for i in range(0,len(nums)): print(nums[i], end=\" \")"
   ]
  },
  {
   "cell_type": "markdown",
   "id": "7bf08d51-aaf0-4e3c-a0aa-5ac3c648e808",
   "metadata": {},
   "source": [
    "## The Sample Mean"
   ]
  },
  {
   "cell_type": "markdown",
   "id": "6bbf205c-a6f6-4b64-8bfc-5dff950c7a0f",
   "metadata": {},
   "source": [
    "* Calculate the sum of all of the elements in the sample\n",
    "* Divide the calculated sum by the total number of elements in the sample"
   ]
  },
  {
   "cell_type": "markdown",
   "id": "3cc9cc62-c9f7-4f47-8ba3-25d77ba452f4",
   "metadata": {},
   "source": [
    "$ \\overline x = \\frac{\\Sigma x_i}{n} $"
   ]
  },
  {
   "cell_type": "code",
   "execution_count": 3,
   "id": "4c533c42-6f78-4114-94e1-5ca0378a9250",
   "metadata": {},
   "outputs": [
    {
     "name": "stdout",
     "output_type": "stream",
     "text": [
      "65.25\n"
     ]
    }
   ],
   "source": [
    "avg = sum(nums)/len(nums)\n",
    "print(f'{avg:.2f}')"
   ]
  },
  {
   "cell_type": "markdown",
   "id": "3d656504-cf2a-462d-9419-7ff59c87ec9b",
   "metadata": {},
   "source": [
    "## The Median\n",
    "https://www.khanacademy.org/math/statistics-probability/summarizing-quantitative-data/mean-median-basics/a/mean-median-and-mode-review"
   ]
  },
  {
   "cell_type": "code",
   "execution_count": 4,
   "id": "0b019cfb-ba58-47f5-87a7-4b52342563e7",
   "metadata": {},
   "outputs": [
    {
     "name": "stdout",
     "output_type": "stream",
     "text": [
      "70.5\n"
     ]
    }
   ],
   "source": [
    "# If the number of elements in the sample is even, the median is the average of the two middle elements in the sample\n",
    "import statistics\n",
    "print(f'{statistics.median(nums):.1f}')"
   ]
  }
 ],
 "metadata": {
  "kernelspec": {
   "display_name": "Python 3 (ipykernel)",
   "language": "python",
   "name": "python3"
  },
  "language_info": {
   "codemirror_mode": {
    "name": "ipython",
    "version": 3
   },
   "file_extension": ".py",
   "mimetype": "text/x-python",
   "name": "python",
   "nbconvert_exporter": "python",
   "pygments_lexer": "ipython3",
   "version": "3.9.13"
  }
 },
 "nbformat": 4,
 "nbformat_minor": 5
}
